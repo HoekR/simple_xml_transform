{
 "cells": [
  {
   "cell_type": "code",
   "execution_count": 1,
   "metadata": {},
   "outputs": [],
   "source": [
    "from lxml import etree\n",
    "from lxml.cssselect import CSSSelector"
   ]
  },
  {
   "cell_type": "markdown",
   "metadata": {},
   "source": [
    "first parse the file and inspect"
   ]
  },
  {
   "cell_type": "code",
   "execution_count": 2,
   "metadata": {},
   "outputs": [],
   "source": [
    "doc = etree.parse('./fr1-THM-test.xml')"
   ]
  },
  {
   "cell_type": "code",
   "execution_count": 3,
   "metadata": {},
   "outputs": [
    {
     "data": {
      "text/plain": [
       "b'<xml xmlns:tag=\"http://tag.di.huc.knaw.nl/ns/tag\" xmlns:th=\"http://www.blackmesatech.com/2017/nss/trojan-horse\" th:doc=\"T T1 _default\">\\n    <text th:doc=\"T _default\" th:sId=\"text0\"/><s th:doc=\"T\" th:sId=\"s1\"/>Those events which\\n    materially influence our future destinies <subst tag:n=\"1\" th:doc=\"_default\" th:sId=\"subst2\"/><del th:doc=\"T\" th:sId=\"del3\"/>are<del th:doc=\"T\" th:eId=\"del3\"/><subst th:doc=\"_default\" th:eId=\"subst2\"/> often <subst tag:n=\"2\" th:doc=\"_default\" th:sId=\"subst4\"/><del th:doc=\"T\" th:sId=\"del5\"/>caused by<del th:doc=\"T\" th:eId=\"del5\"/><subst th:doc=\"_default\" th:eId=\"subst4\"/>\\n    <del th:doc=\"T\" th:sId=\"del6\"/>slight or<del th:doc=\"T\" th:eId=\"del6\"/>\\n    <subst tag:n=\"3\" th:doc=\"_default\" th:sId=\"subst7\"/><add th:doc=\"T\" th:sId=\"add8\"/>derive their\\n    origin from a<add th:doc=\"T\" th:eId=\"add8\"/><subst th:doc=\"_default\" th:eId=\"subst7\"/> trivial\\n    occurence<subst tag:n=\"3\" th:doc=\"_default\" th:sId=\"subst9\"/><del th:doc=\"T\" th:sId=\"del10\"/>s<del th:doc=\"T\" th:eId=\"del10\"/><subst th:doc=\"_default\" th:eId=\"subst9\"/>.<s th:doc=\"T\" th:eId=\"s1\"/>\\n</xml>'"
      ]
     },
     "execution_count": 3,
     "metadata": {},
     "output_type": "execute_result"
    }
   ],
   "source": [
    "etree.tostring(doc)"
   ]
  },
  {
   "cell_type": "code",
   "execution_count": 6,
   "metadata": {},
   "outputs": [
    {
     "data": {
      "text/plain": [
       "[<Element text at 0x10ab1a448>,\n",
       " <Element s at 0x10ab1aa48>,\n",
       " <Element subst at 0x10ab1a648>,\n",
       " <Element del at 0x10ab1ac08>,\n",
       " <Element del at 0x10ab1a788>,\n",
       " <Element subst at 0x10ab1acc8>,\n",
       " <Element subst at 0x10ab1ad08>,\n",
       " <Element del at 0x10ab1ad48>,\n",
       " <Element del at 0x10ab1ad88>,\n",
       " <Element subst at 0x10ab1ac88>,\n",
       " <Element del at 0x10ab1adc8>,\n",
       " <Element del at 0x10ab1ae08>,\n",
       " <Element subst at 0x10ab1ae48>,\n",
       " <Element add at 0x10ab1ae88>,\n",
       " <Element add at 0x10ab1aec8>,\n",
       " <Element subst at 0x10ab1af08>,\n",
       " <Element subst at 0x10ab1af48>,\n",
       " <Element del at 0x10ab1af88>,\n",
       " <Element del at 0x10ab1afc8>,\n",
       " <Element subst at 0x10ab25048>,\n",
       " <Element s at 0x10ab25088>]"
      ]
     },
     "execution_count": 6,
     "metadata": {},
     "output_type": "execute_result"
    }
   ],
   "source": [
    "root = doc.getroot()\n",
    "children = root.getchildren()\n",
    "children"
   ]
  },
  {
   "cell_type": "code",
   "execution_count": 7,
   "metadata": {},
   "outputs": [
    {
     "name": "stdout",
     "output_type": "stream",
     "text": [
      "<Element text at 0x10ab1a448> {'{http://www.blackmesatech.com/2017/nss/trojan-horse}doc': 'T _default', '{http://www.blackmesatech.com/2017/nss/trojan-horse}sId': 'text0'}\n",
      "<Element s at 0x10ab1aa48> {'{http://www.blackmesatech.com/2017/nss/trojan-horse}doc': 'T', '{http://www.blackmesatech.com/2017/nss/trojan-horse}sId': 's1'}\n",
      "<Element subst at 0x10ab1a648> {'{http://tag.di.huc.knaw.nl/ns/tag}n': '1', '{http://www.blackmesatech.com/2017/nss/trojan-horse}doc': '_default', '{http://www.blackmesatech.com/2017/nss/trojan-horse}sId': 'subst2'}\n",
      "<Element del at 0x10ab1ac08> {'{http://www.blackmesatech.com/2017/nss/trojan-horse}doc': 'T', '{http://www.blackmesatech.com/2017/nss/trojan-horse}sId': 'del3'}\n",
      "<Element del at 0x10ab1a788> {'{http://www.blackmesatech.com/2017/nss/trojan-horse}doc': 'T', '{http://www.blackmesatech.com/2017/nss/trojan-horse}eId': 'del3'}\n",
      "<Element subst at 0x10ab1acc8> {'{http://www.blackmesatech.com/2017/nss/trojan-horse}doc': '_default', '{http://www.blackmesatech.com/2017/nss/trojan-horse}eId': 'subst2'}\n",
      "<Element subst at 0x10ab1ad08> {'{http://tag.di.huc.knaw.nl/ns/tag}n': '2', '{http://www.blackmesatech.com/2017/nss/trojan-horse}doc': '_default', '{http://www.blackmesatech.com/2017/nss/trojan-horse}sId': 'subst4'}\n",
      "<Element del at 0x10ab1ad48> {'{http://www.blackmesatech.com/2017/nss/trojan-horse}doc': 'T', '{http://www.blackmesatech.com/2017/nss/trojan-horse}sId': 'del5'}\n",
      "<Element del at 0x10ab1ad88> {'{http://www.blackmesatech.com/2017/nss/trojan-horse}doc': 'T', '{http://www.blackmesatech.com/2017/nss/trojan-horse}eId': 'del5'}\n",
      "<Element subst at 0x10ab1ac88> {'{http://www.blackmesatech.com/2017/nss/trojan-horse}doc': '_default', '{http://www.blackmesatech.com/2017/nss/trojan-horse}eId': 'subst4'}\n",
      "<Element del at 0x10ab1adc8> {'{http://www.blackmesatech.com/2017/nss/trojan-horse}doc': 'T', '{http://www.blackmesatech.com/2017/nss/trojan-horse}sId': 'del6'}\n",
      "<Element del at 0x10ab1ae08> {'{http://www.blackmesatech.com/2017/nss/trojan-horse}doc': 'T', '{http://www.blackmesatech.com/2017/nss/trojan-horse}eId': 'del6'}\n",
      "<Element subst at 0x10ab1ae48> {'{http://tag.di.huc.knaw.nl/ns/tag}n': '3', '{http://www.blackmesatech.com/2017/nss/trojan-horse}doc': '_default', '{http://www.blackmesatech.com/2017/nss/trojan-horse}sId': 'subst7'}\n",
      "<Element add at 0x10ab1ae88> {'{http://www.blackmesatech.com/2017/nss/trojan-horse}doc': 'T', '{http://www.blackmesatech.com/2017/nss/trojan-horse}sId': 'add8'}\n",
      "<Element add at 0x10ab1aec8> {'{http://www.blackmesatech.com/2017/nss/trojan-horse}doc': 'T', '{http://www.blackmesatech.com/2017/nss/trojan-horse}eId': 'add8'}\n",
      "<Element subst at 0x10ab1af08> {'{http://www.blackmesatech.com/2017/nss/trojan-horse}doc': '_default', '{http://www.blackmesatech.com/2017/nss/trojan-horse}eId': 'subst7'}\n",
      "<Element subst at 0x10ab1af48> {'{http://tag.di.huc.knaw.nl/ns/tag}n': '3', '{http://www.blackmesatech.com/2017/nss/trojan-horse}doc': '_default', '{http://www.blackmesatech.com/2017/nss/trojan-horse}sId': 'subst9'}\n",
      "<Element del at 0x10ab1af88> {'{http://www.blackmesatech.com/2017/nss/trojan-horse}doc': 'T', '{http://www.blackmesatech.com/2017/nss/trojan-horse}sId': 'del10'}\n",
      "<Element del at 0x10ab1afc8> {'{http://www.blackmesatech.com/2017/nss/trojan-horse}doc': 'T', '{http://www.blackmesatech.com/2017/nss/trojan-horse}eId': 'del10'}\n",
      "<Element subst at 0x10ab25048> {'{http://www.blackmesatech.com/2017/nss/trojan-horse}doc': '_default', '{http://www.blackmesatech.com/2017/nss/trojan-horse}eId': 'subst9'}\n",
      "<Element s at 0x10ab25088> {'{http://www.blackmesatech.com/2017/nss/trojan-horse}doc': 'T', '{http://www.blackmesatech.com/2017/nss/trojan-horse}eId': 's1'}\n"
     ]
    }
   ],
   "source": [
    "for el in children:\n",
    "    print(el, el.attrib)"
   ]
  },
  {
   "cell_type": "code",
   "execution_count": 10,
   "metadata": {},
   "outputs": [
    {
     "data": {
      "text/plain": [
       "{'tag': 'http://tag.di.huc.knaw.nl/ns/tag',\n",
       " 'th': 'http://www.blackmesatech.com/2017/nss/trojan-horse'}"
      ]
     },
     "execution_count": 10,
     "metadata": {},
     "output_type": "execute_result"
    }
   ],
   "source": [
    "# bleh we got namespaces\n",
    "nsmap = root.nsmap\n",
    "nsmap\n",
    "\n",
    "# they only seem to be attached to attributes though "
   ]
  },
  {
   "cell_type": "code",
   "execution_count": 34,
   "metadata": {},
   "outputs": [],
   "source": [
    "sel = CSSSelector('s')"
   ]
  },
  {
   "cell_type": "code",
   "execution_count": 37,
   "metadata": {},
   "outputs": [
    {
     "name": "stdout",
     "output_type": "stream",
     "text": [
      "{'{http://www.blackmesatech.com/2017/nss/trojan-horse}doc': 'T', '{http://www.blackmesatech.com/2017/nss/trojan-horse}sId': 's1'}\n",
      "{'{http://www.blackmesatech.com/2017/nss/trojan-horse}doc': 'T', '{http://www.blackmesatech.com/2017/nss/trojan-horse}eId': 's1'}\n"
     ]
    }
   ],
   "source": [
    "for e in sel(root):\n",
    "    print(e.attrib)\n",
    "    \n",
    "#selecting elements and attributes"
   ]
  },
  {
   "cell_type": "code",
   "execution_count": 39,
   "metadata": {},
   "outputs": [
    {
     "data": {
      "text/plain": [
       "['{http://www.blackmesatech.com/2017/nss/trojan-horse}doc',\n",
       " '{http://www.blackmesatech.com/2017/nss/trojan-horse}eId']"
      ]
     },
     "execution_count": 39,
     "metadata": {},
     "output_type": "execute_result"
    }
   ],
   "source": [
    "e.attrib.keys()"
   ]
  },
  {
   "cell_type": "code",
   "execution_count": 45,
   "metadata": {},
   "outputs": [
    {
     "data": {
      "text/plain": [
       "[['text', 'T _default'],\n",
       " ['s', 'T'],\n",
       " ['subst', '_default'],\n",
       " ['del', 'T'],\n",
       " ['del', 'T'],\n",
       " ['subst', '_default'],\n",
       " ['subst', '_default'],\n",
       " ['del', 'T'],\n",
       " ['del', 'T'],\n",
       " ['subst', '_default'],\n",
       " ['del', 'T'],\n",
       " ['del', 'T'],\n",
       " ['subst', '_default'],\n",
       " ['add', 'T'],\n",
       " ['add', 'T'],\n",
       " ['subst', '_default'],\n",
       " ['subst', '_default'],\n",
       " ['del', 'T'],\n",
       " ['del', 'T'],\n",
       " ['subst', '_default'],\n",
       " ['s', 'T']]"
      ]
     },
     "execution_count": 45,
     "metadata": {},
     "output_type": "execute_result"
    }
   ],
   "source": [
    "#let's try and get a structure out of this\n",
    "\n",
    "#meaningful elements \n",
    "\n",
    "doc_key = '{http://www.blackmesatech.com/2017/nss/trojan-horse}doc'\n",
    "\n",
    "[[element.tag, element.get()] for element in children]"
   ]
  },
  {
   "cell_type": "code",
   "execution_count": 69,
   "metadata": {},
   "outputs": [],
   "source": [
    "root = etree.Element('xml')"
   ]
  },
  {
   "cell_type": "code",
   "execution_count": 70,
   "metadata": {},
   "outputs": [],
   "source": [
    "for element in children:\n",
    "    nelement = etree.Element(element.tag)\n",
    "    for attr in element.attrib.keys():\n",
    "        nelement.set(attr, element.get(attr))\n",
    "        text = '{} {}'.format(element.text or '', element.tail or '')\n",
    "        if text is not '':\n",
    "            nelement.text = text\n",
    "    root.append(nelement)"
   ]
  },
  {
   "cell_type": "code",
   "execution_count": 71,
   "metadata": {},
   "outputs": [
    {
     "data": {
      "text/plain": [
       "b'<xml>\\n  <text xmlns:ns0=\"http://www.blackmesatech.com/2017/nss/trojan-horse\" ns0:doc=\"T _default\" ns0:sId=\"text0\"> </text>\\n  <s xmlns:ns0=\"http://www.blackmesatech.com/2017/nss/trojan-horse\" ns0:doc=\"T\" ns0:sId=\"s1\"> Those events which\\n    materially influence our future destinies </s>\\n  <subst xmlns:ns0=\"http://tag.di.huc.knaw.nl/ns/tag\" xmlns:ns1=\"http://www.blackmesatech.com/2017/nss/trojan-horse\" ns0:n=\"1\" ns1:doc=\"_default\" ns1:sId=\"subst2\"> </subst>\\n  <del xmlns:ns0=\"http://www.blackmesatech.com/2017/nss/trojan-horse\" ns0:doc=\"T\" ns0:sId=\"del3\"> are</del>\\n  <del xmlns:ns0=\"http://www.blackmesatech.com/2017/nss/trojan-horse\" ns0:doc=\"T\" ns0:eId=\"del3\"> </del>\\n  <subst xmlns:ns0=\"http://www.blackmesatech.com/2017/nss/trojan-horse\" ns0:doc=\"_default\" ns0:eId=\"subst2\">  often </subst>\\n  <subst xmlns:ns0=\"http://tag.di.huc.knaw.nl/ns/tag\" xmlns:ns1=\"http://www.blackmesatech.com/2017/nss/trojan-horse\" ns0:n=\"2\" ns1:doc=\"_default\" ns1:sId=\"subst4\"> </subst>\\n  <del xmlns:ns0=\"http://www.blackmesatech.com/2017/nss/trojan-horse\" ns0:doc=\"T\" ns0:sId=\"del5\"> caused by</del>\\n  <del xmlns:ns0=\"http://www.blackmesatech.com/2017/nss/trojan-horse\" ns0:doc=\"T\" ns0:eId=\"del5\"> </del>\\n  <subst xmlns:ns0=\"http://www.blackmesatech.com/2017/nss/trojan-horse\" ns0:doc=\"_default\" ns0:eId=\"subst4\"> \\n    </subst>\\n  <del xmlns:ns0=\"http://www.blackmesatech.com/2017/nss/trojan-horse\" ns0:doc=\"T\" ns0:sId=\"del6\"> slight or</del>\\n  <del xmlns:ns0=\"http://www.blackmesatech.com/2017/nss/trojan-horse\" ns0:doc=\"T\" ns0:eId=\"del6\"> \\n    </del>\\n  <subst xmlns:ns0=\"http://tag.di.huc.knaw.nl/ns/tag\" xmlns:ns1=\"http://www.blackmesatech.com/2017/nss/trojan-horse\" ns0:n=\"3\" ns1:doc=\"_default\" ns1:sId=\"subst7\"> </subst>\\n  <add xmlns:ns0=\"http://www.blackmesatech.com/2017/nss/trojan-horse\" ns0:doc=\"T\" ns0:sId=\"add8\"> derive their\\n    origin from a</add>\\n  <add xmlns:ns0=\"http://www.blackmesatech.com/2017/nss/trojan-horse\" ns0:doc=\"T\" ns0:eId=\"add8\"> </add>\\n  <subst xmlns:ns0=\"http://www.blackmesatech.com/2017/nss/trojan-horse\" ns0:doc=\"_default\" ns0:eId=\"subst7\">  trivial\\n    occurence</subst>\\n  <subst xmlns:ns0=\"http://tag.di.huc.knaw.nl/ns/tag\" xmlns:ns1=\"http://www.blackmesatech.com/2017/nss/trojan-horse\" ns0:n=\"3\" ns1:doc=\"_default\" ns1:sId=\"subst9\"> </subst>\\n  <del xmlns:ns0=\"http://www.blackmesatech.com/2017/nss/trojan-horse\" ns0:doc=\"T\" ns0:sId=\"del10\"> s</del>\\n  <del xmlns:ns0=\"http://www.blackmesatech.com/2017/nss/trojan-horse\" ns0:doc=\"T\" ns0:eId=\"del10\"> </del>\\n  <subst xmlns:ns0=\"http://www.blackmesatech.com/2017/nss/trojan-horse\" ns0:doc=\"_default\" ns0:eId=\"subst9\"> .</subst>\\n  <s xmlns:ns0=\"http://www.blackmesatech.com/2017/nss/trojan-horse\" ns0:doc=\"T\" ns0:eId=\"s1\"> \\n</s>\\n</xml>\\n'"
      ]
     },
     "execution_count": 71,
     "metadata": {},
     "output_type": "execute_result"
    }
   ],
   "source": [
    "from IPython.core.display import display, HTML\n",
    "res = etree.tostring(root, pretty_print=True, encoding='utf8')\n",
    "res"
   ]
  },
  {
   "cell_type": "code",
   "execution_count": 72,
   "metadata": {},
   "outputs": [],
   "source": [
    "flout = open('./tst.xml', 'wb')\n",
    "flout.write(res)\n",
    "flout.close()"
   ]
  },
  {
   "cell_type": "code",
   "execution_count": null,
   "metadata": {},
   "outputs": [],
   "source": []
  }
 ],
 "metadata": {
  "kernelspec": {
   "display_name": "Python 3",
   "language": "python",
   "name": "python3"
  },
  "language_info": {
   "codemirror_mode": {
    "name": "ipython",
    "version": 3
   },
   "file_extension": ".py",
   "mimetype": "text/x-python",
   "name": "python",
   "nbconvert_exporter": "python",
   "pygments_lexer": "ipython3",
   "version": "3.7.2"
  },
  "toc": {
   "base_numbering": 1,
   "nav_menu": {},
   "number_sections": true,
   "sideBar": true,
   "skip_h1_title": false,
   "title_cell": "Table of Contents",
   "title_sidebar": "Contents",
   "toc_cell": false,
   "toc_position": {},
   "toc_section_display": true,
   "toc_window_display": false
  }
 },
 "nbformat": 4,
 "nbformat_minor": 2
}
